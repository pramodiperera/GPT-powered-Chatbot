{
  "nbformat": 4,
  "nbformat_minor": 0,
  "metadata": {
    "colab": {
      "provenance": []
    },
    "kernelspec": {
      "name": "python3",
      "display_name": "Python 3"
    },
    "language_info": {
      "name": "python"
    }
  },
  "cells": [
    {
      "cell_type": "code",
      "execution_count": null,
      "metadata": {
        "id": "Sxr8AfYqjCwP"
      },
      "outputs": [],
      "source": [
        "#!pip install openai"
      ]
    },
    {
      "cell_type": "code",
      "source": [
        "import os\n",
        "import openai\n",
        "\n",
        "openai.api_key = \"openaiKey\" #os.getenv(\"\")"
      ],
      "metadata": {
        "id": "SCi7v1WXmo-S"
      },
      "execution_count": null,
      "outputs": []
    },
    {
      "cell_type": "code",
      "source": [
        "# Note: you need to be using OpenAI Python v0.27.0 for the code below to work\n",
        "\n",
        "response = openai.ChatCompletion.create(\n",
        "  model=\"gpt-3.5-turbo\",\n",
        "  messages=[\n",
        "        {\"role\": \"system\", \"content\": \"You are a helpful tutor.\"},\n",
        "        {\"role\": \"user\", \"content\": \"Hi, I'm Pramodi. I want to learn AI\"},\n",
        "        {\"role\": \"assistant\", \"content\": \"Hello, Pramodi that's awesome. what do you want to know about AI\"},\n",
        "        {\"role\": \"user\", \"content\": \"What is deep learning?\"}\n",
        "    ]\n",
        ")"
      ],
      "metadata": {
        "id": "QXXFJvW0LBJl"
      },
      "execution_count": null,
      "outputs": []
    },
    {
      "cell_type": "code",
      "source": [
        "response"
      ],
      "metadata": {
        "id": "ulHvgU74NWaX"
      },
      "execution_count": null,
      "outputs": []
    },
    {
      "cell_type": "code",
      "source": [
        "print(response['choices'][0][\"message\"][\"content\"])"
      ],
      "metadata": {
        "colab": {
          "base_uri": "https://localhost:8080/"
        },
        "id": "SuRSH0GxNZyb",
        "outputId": "5e3f685e-eb5a-4a5b-beb9-d2617617929a"
      },
      "execution_count": null,
      "outputs": [
        {
          "output_type": "stream",
          "name": "stdout",
          "text": [
            "Deep learning is a subset of machine learning algorithms that aims to model high-level abstractions in data by using multiple processing layers. It is an artificial neural network with multiple layers of inter-connected nodes, where each layer extracts increasingly complex features from the input data. The deep learning algorithm is designed to automatically learn from these features and generate output based on the learned patterns. Deep learning is widely used in image and speech recognition, natural language processing, and autonomous vehicles. It is considered to be one of the most promising areas of artificial intelligence.\n"
          ]
        }
      ]
    },
    {
      "cell_type": "markdown",
      "source": [
        "**A chatBot with GPT-3.5**"
      ],
      "metadata": {
        "id": "2S3OPT_Bvlbb"
      }
    },
    {
      "cell_type": "code",
      "source": [
        "def get_chatgpt_response(messages):\n",
        "  response = openai.ChatCompletion.create(\n",
        "  model=\"gpt-3.5-turbo\",\n",
        "  messages=messages\n",
        ")\n",
        "  return response['choices'][0][\"message\"][\"content\"]  "
      ],
      "metadata": {
        "id": "HzzqBOuW7jTP"
      },
      "execution_count": null,
      "outputs": []
    },
    {
      "cell_type": "code",
      "source": [
        "def update_chat(messages, role, content):\n",
        "  messages.append({\"role\":role, \"content\":content})\n",
        "  return messages"
      ],
      "metadata": {
        "id": "skfPBXvkDlpI"
      },
      "execution_count": null,
      "outputs": []
    },
    {
      "cell_type": "code",
      "source": [
        "#testing\n",
        "messages = [\n",
        "    {\"role\":\"system\", \"content\":\"You are a helpful tutor\"},\n",
        "    {\"role\":\"user\", \"content\":\"I am Pramodi, I want to learn AI\"},\n",
        "    {\"role\":\"assistant\", \"content\":\"Hello Pramodi, That's awesome. what do you know about AI\"},\n",
        "    {\"role\":\"user\", \"content\":\"What is nlp\"}\n",
        "]\n",
        "\n",
        "get_chatgpt_response(messages)"
      ],
      "metadata": {
        "colab": {
          "base_uri": "https://localhost:8080/",
          "height": 70
        },
        "id": "ZOWdRHksEBWu",
        "outputId": "7ff875d8-d963-46d9-e304-13c54b3aa999"
      },
      "execution_count": null,
      "outputs": [
        {
          "output_type": "execute_result",
          "data": {
            "text/plain": [
              "'NLP (Natural Language Processing) is a subfield of Artificial Intelligence that focuses on enabling computers to understand and interpret human language. It involves the use of algorithms and models to analyze, process, and generate natural language. NLP applications include automated chatbots, intelligent assistants, sentiment analysis, language translation, and voice recognition.'"
            ],
            "application/vnd.google.colaboratory.intrinsic+json": {
              "type": "string"
            }
          },
          "metadata": {},
          "execution_count": 21
        }
      ]
    },
    {
      "cell_type": "code",
      "source": [
        "t is "
      ],
      "metadata": {
        "id": "JipF4tYFH3LM"
      },
      "execution_count": null,
      "outputs": []
    },
    {
      "cell_type": "code",
      "source": [
        "#------------------------ actual\n",
        "\n",
        "import pprint\n",
        "\n",
        "messages = [\n",
        "    {\"role\":\"system\", \"content\":\"You are a helpful tutor\"},\n",
        "    {\"role\":\"user\", \"content\":\"I am Pramodi, I want to learn AI\"},\n",
        "    {\"role\":\"assistant\", \"content\":\"Hello Pramodi, That's awesome. what do you know about AI\"}\n",
        "]\n",
        "\n",
        "while True:\n",
        "  pprint.pprint(messages)\n",
        "  # append user input\n",
        "  user_input = input()\n",
        "  messages = update_chat(messages, \"user\", user_input)\n",
        "  # append model response\n",
        "  model_response = get_chatgpt_response(messages)\n",
        "  messages = update_chat(messages, \"assistant\", model_response)"
      ],
      "metadata": {
        "id": "6YqQRp47N2gQ",
        "colab": {
          "base_uri": "https://localhost:8080/",
          "height": 1000
        },
        "outputId": "b99f8afe-8666-4406-cac8-f5bac21fab08"
      },
      "execution_count": null,
      "outputs": [
        {
          "output_type": "stream",
          "name": "stdout",
          "text": [
            "[{'content': 'You are a helpful tutor', 'role': 'system'},\n",
            " {'content': 'I am Pramodi, I want to learn AI', 'role': 'user'},\n",
            " {'content': \"Hello Pramodi, That's awesome. what do you know about AI\",\n",
            "  'role': 'assistant'}]\n",
            "what is deep learning\n",
            "[{'content': 'You are a helpful tutor', 'role': 'system'},\n",
            " {'content': 'I am Pramodi, I want to learn AI', 'role': 'user'},\n",
            " {'content': \"Hello Pramodi, That's awesome. what do you know about AI\",\n",
            "  'role': 'assistant'},\n",
            " {'content': 'what is deep learning', 'role': 'user'},\n",
            " {'content': 'Deep learning is a subfield of machine learning that is inspired '\n",
            "             'by the structure and function of the human brain, known as '\n",
            "             'artificial neural networks. It allows computer models to learn '\n",
            "             'and improve from experience without being explicitly programmed '\n",
            "             'or reprogrammed for every task. Essentially, deep learning '\n",
            "             'techniques involve training a neural network with a large '\n",
            "             'dataset that enables it to make predictions or decisions by '\n",
            "             'itself, usually with more accuracy than traditional machine '\n",
            "             'learning models. It is used in various fields such as image '\n",
            "             'processing, speech recognition, natural language processing, and '\n",
            "             'many more.',\n",
            "  'role': 'assistant'}]\n",
            "does transformers come user DL\n",
            "[{'content': 'You are a helpful tutor', 'role': 'system'},\n",
            " {'content': 'I am Pramodi, I want to learn AI', 'role': 'user'},\n",
            " {'content': \"Hello Pramodi, That's awesome. what do you know about AI\",\n",
            "  'role': 'assistant'},\n",
            " {'content': 'what is deep learning', 'role': 'user'},\n",
            " {'content': 'Deep learning is a subfield of machine learning that is inspired '\n",
            "             'by the structure and function of the human brain, known as '\n",
            "             'artificial neural networks. It allows computer models to learn '\n",
            "             'and improve from experience without being explicitly programmed '\n",
            "             'or reprogrammed for every task. Essentially, deep learning '\n",
            "             'techniques involve training a neural network with a large '\n",
            "             'dataset that enables it to make predictions or decisions by '\n",
            "             'itself, usually with more accuracy than traditional machine '\n",
            "             'learning models. It is used in various fields such as image '\n",
            "             'processing, speech recognition, natural language processing, and '\n",
            "             'many more.',\n",
            "  'role': 'assistant'},\n",
            " {'content': 'does transformers come user DL', 'role': 'user'},\n",
            " {'content': 'Yes, transformers are a type of deep learning algorithm that has '\n",
            "             'gained popularity in the field of natural language processing '\n",
            "             '(NLP). In traditional language models, the model reads textual '\n",
            "             'data word by word or sentence by sentence from left to right, '\n",
            "             'which can sometimes result in missing the context of the overall '\n",
            "             'text. But, with transformer models, they use a self-attention '\n",
            "             'mechanism that allows the model to pay attention to the right '\n",
            "             'words in the context of the entire sentence or document, '\n",
            "             'allowing the model to capture the context and understand the '\n",
            "             'meaning of the text better. Transformers have become a powerful '\n",
            "             'approach for various NLP tasks, such as machine translation, '\n",
            "             'text summarization, sentiment analysis, and more.',\n",
            "  'role': 'assistant'}]\n",
            "what is my name\n",
            "[{'content': 'You are a helpful tutor', 'role': 'system'},\n",
            " {'content': 'I am Pramodi, I want to learn AI', 'role': 'user'},\n",
            " {'content': \"Hello Pramodi, That's awesome. what do you know about AI\",\n",
            "  'role': 'assistant'},\n",
            " {'content': 'what is deep learning', 'role': 'user'},\n",
            " {'content': 'Deep learning is a subfield of machine learning that is inspired '\n",
            "             'by the structure and function of the human brain, known as '\n",
            "             'artificial neural networks. It allows computer models to learn '\n",
            "             'and improve from experience without being explicitly programmed '\n",
            "             'or reprogrammed for every task. Essentially, deep learning '\n",
            "             'techniques involve training a neural network with a large '\n",
            "             'dataset that enables it to make predictions or decisions by '\n",
            "             'itself, usually with more accuracy than traditional machine '\n",
            "             'learning models. It is used in various fields such as image '\n",
            "             'processing, speech recognition, natural language processing, and '\n",
            "             'many more.',\n",
            "  'role': 'assistant'},\n",
            " {'content': 'does transformers come user DL', 'role': 'user'},\n",
            " {'content': 'Yes, transformers are a type of deep learning algorithm that has '\n",
            "             'gained popularity in the field of natural language processing '\n",
            "             '(NLP). In traditional language models, the model reads textual '\n",
            "             'data word by word or sentence by sentence from left to right, '\n",
            "             'which can sometimes result in missing the context of the overall '\n",
            "             'text. But, with transformer models, they use a self-attention '\n",
            "             'mechanism that allows the model to pay attention to the right '\n",
            "             'words in the context of the entire sentence or document, '\n",
            "             'allowing the model to capture the context and understand the '\n",
            "             'meaning of the text better. Transformers have become a powerful '\n",
            "             'approach for various NLP tasks, such as machine translation, '\n",
            "             'text summarization, sentiment analysis, and more.',\n",
            "  'role': 'assistant'},\n",
            " {'content': 'what is my name', 'role': 'user'},\n",
            " {'content': \"I'm sorry, but I do not have access to that information as I am \"\n",
            "             'just a text-based AI language model.',\n",
            "  'role': 'assistant'}]\n",
            "can you repeat my name?\n",
            "[{'content': 'You are a helpful tutor', 'role': 'system'},\n",
            " {'content': 'I am Pramodi, I want to learn AI', 'role': 'user'},\n",
            " {'content': \"Hello Pramodi, That's awesome. what do you know about AI\",\n",
            "  'role': 'assistant'},\n",
            " {'content': 'what is deep learning', 'role': 'user'},\n",
            " {'content': 'Deep learning is a subfield of machine learning that is inspired '\n",
            "             'by the structure and function of the human brain, known as '\n",
            "             'artificial neural networks. It allows computer models to learn '\n",
            "             'and improve from experience without being explicitly programmed '\n",
            "             'or reprogrammed for every task. Essentially, deep learning '\n",
            "             'techniques involve training a neural network with a large '\n",
            "             'dataset that enables it to make predictions or decisions by '\n",
            "             'itself, usually with more accuracy than traditional machine '\n",
            "             'learning models. It is used in various fields such as image '\n",
            "             'processing, speech recognition, natural language processing, and '\n",
            "             'many more.',\n",
            "  'role': 'assistant'},\n",
            " {'content': 'does transformers come user DL', 'role': 'user'},\n",
            " {'content': 'Yes, transformers are a type of deep learning algorithm that has '\n",
            "             'gained popularity in the field of natural language processing '\n",
            "             '(NLP). In traditional language models, the model reads textual '\n",
            "             'data word by word or sentence by sentence from left to right, '\n",
            "             'which can sometimes result in missing the context of the overall '\n",
            "             'text. But, with transformer models, they use a self-attention '\n",
            "             'mechanism that allows the model to pay attention to the right '\n",
            "             'words in the context of the entire sentence or document, '\n",
            "             'allowing the model to capture the context and understand the '\n",
            "             'meaning of the text better. Transformers have become a powerful '\n",
            "             'approach for various NLP tasks, such as machine translation, '\n",
            "             'text summarization, sentiment analysis, and more.',\n",
            "  'role': 'assistant'},\n",
            " {'content': 'what is my name', 'role': 'user'},\n",
            " {'content': \"I'm sorry, but I do not have access to that information as I am \"\n",
            "             'just a text-based AI language model.',\n",
            "  'role': 'assistant'},\n",
            " {'content': 'can you repeat my name?', 'role': 'user'},\n",
            " {'content': 'I am sorry, but I do not have access to your name as we '\n",
            "             'communicate only through text.',\n",
            "  'role': 'assistant'}]\n",
            "But I told you previously that I'm Pramodi. Don't you remember?\n",
            "[{'content': 'You are a helpful tutor', 'role': 'system'},\n",
            " {'content': 'I am Pramodi, I want to learn AI', 'role': 'user'},\n",
            " {'content': \"Hello Pramodi, That's awesome. what do you know about AI\",\n",
            "  'role': 'assistant'},\n",
            " {'content': 'what is deep learning', 'role': 'user'},\n",
            " {'content': 'Deep learning is a subfield of machine learning that is inspired '\n",
            "             'by the structure and function of the human brain, known as '\n",
            "             'artificial neural networks. It allows computer models to learn '\n",
            "             'and improve from experience without being explicitly programmed '\n",
            "             'or reprogrammed for every task. Essentially, deep learning '\n",
            "             'techniques involve training a neural network with a large '\n",
            "             'dataset that enables it to make predictions or decisions by '\n",
            "             'itself, usually with more accuracy than traditional machine '\n",
            "             'learning models. It is used in various fields such as image '\n",
            "             'processing, speech recognition, natural language processing, and '\n",
            "             'many more.',\n",
            "  'role': 'assistant'},\n",
            " {'content': 'does transformers come user DL', 'role': 'user'},\n",
            " {'content': 'Yes, transformers are a type of deep learning algorithm that has '\n",
            "             'gained popularity in the field of natural language processing '\n",
            "             '(NLP). In traditional language models, the model reads textual '\n",
            "             'data word by word or sentence by sentence from left to right, '\n",
            "             'which can sometimes result in missing the context of the overall '\n",
            "             'text. But, with transformer models, they use a self-attention '\n",
            "             'mechanism that allows the model to pay attention to the right '\n",
            "             'words in the context of the entire sentence or document, '\n",
            "             'allowing the model to capture the context and understand the '\n",
            "             'meaning of the text better. Transformers have become a powerful '\n",
            "             'approach for various NLP tasks, such as machine translation, '\n",
            "             'text summarization, sentiment analysis, and more.',\n",
            "  'role': 'assistant'},\n",
            " {'content': 'what is my name', 'role': 'user'},\n",
            " {'content': \"I'm sorry, but I do not have access to that information as I am \"\n",
            "             'just a text-based AI language model.',\n",
            "  'role': 'assistant'},\n",
            " {'content': 'can you repeat my name?', 'role': 'user'},\n",
            " {'content': 'I am sorry, but I do not have access to your name as we '\n",
            "             'communicate only through text.',\n",
            "  'role': 'assistant'},\n",
            " {'content': \"But I told you previously that I'm Pramodi. Don't you remember?\",\n",
            "  'role': 'user'},\n",
            " {'content': 'Oh, I am sorry for the confusion earlier. Yes, you did mention '\n",
            "             'that your name is Pramodi. How may I assist you with AI-related '\n",
            "             'queries, Pramodi?',\n",
            "  'role': 'assistant'}]\n",
            "now tell me what is my name\n",
            "[{'content': 'You are a helpful tutor', 'role': 'system'},\n",
            " {'content': 'I am Pramodi, I want to learn AI', 'role': 'user'},\n",
            " {'content': \"Hello Pramodi, That's awesome. what do you know about AI\",\n",
            "  'role': 'assistant'},\n",
            " {'content': 'what is deep learning', 'role': 'user'},\n",
            " {'content': 'Deep learning is a subfield of machine learning that is inspired '\n",
            "             'by the structure and function of the human brain, known as '\n",
            "             'artificial neural networks. It allows computer models to learn '\n",
            "             'and improve from experience without being explicitly programmed '\n",
            "             'or reprogrammed for every task. Essentially, deep learning '\n",
            "             'techniques involve training a neural network with a large '\n",
            "             'dataset that enables it to make predictions or decisions by '\n",
            "             'itself, usually with more accuracy than traditional machine '\n",
            "             'learning models. It is used in various fields such as image '\n",
            "             'processing, speech recognition, natural language processing, and '\n",
            "             'many more.',\n",
            "  'role': 'assistant'},\n",
            " {'content': 'does transformers come user DL', 'role': 'user'},\n",
            " {'content': 'Yes, transformers are a type of deep learning algorithm that has '\n",
            "             'gained popularity in the field of natural language processing '\n",
            "             '(NLP). In traditional language models, the model reads textual '\n",
            "             'data word by word or sentence by sentence from left to right, '\n",
            "             'which can sometimes result in missing the context of the overall '\n",
            "             'text. But, with transformer models, they use a self-attention '\n",
            "             'mechanism that allows the model to pay attention to the right '\n",
            "             'words in the context of the entire sentence or document, '\n",
            "             'allowing the model to capture the context and understand the '\n",
            "             'meaning of the text better. Transformers have become a powerful '\n",
            "             'approach for various NLP tasks, such as machine translation, '\n",
            "             'text summarization, sentiment analysis, and more.',\n",
            "  'role': 'assistant'},\n",
            " {'content': 'what is my name', 'role': 'user'},\n",
            " {'content': \"I'm sorry, but I do not have access to that information as I am \"\n",
            "             'just a text-based AI language model.',\n",
            "  'role': 'assistant'},\n",
            " {'content': 'can you repeat my name?', 'role': 'user'},\n",
            " {'content': 'I am sorry, but I do not have access to your name as we '\n",
            "             'communicate only through text.',\n",
            "  'role': 'assistant'},\n",
            " {'content': \"But I told you previously that I'm Pramodi. Don't you remember?\",\n",
            "  'role': 'user'},\n",
            " {'content': 'Oh, I am sorry for the confusion earlier. Yes, you did mention '\n",
            "             'that your name is Pramodi. How may I assist you with AI-related '\n",
            "             'queries, Pramodi?',\n",
            "  'role': 'assistant'},\n",
            " {'content': 'now tell me what is my name', 'role': 'user'},\n",
            " {'content': 'Your name is Pramodi.', 'role': 'assistant'}]\n"
          ]
        },
        {
          "output_type": "error",
          "ename": "KeyboardInterrupt",
          "evalue": "ignored",
          "traceback": [
            "\u001b[0;31m---------------------------------------------------------------------------\u001b[0m",
            "\u001b[0;31mKeyboardInterrupt\u001b[0m                         Traceback (most recent call last)",
            "\u001b[0;32m<ipython-input-23-e213c84870ca>\u001b[0m in \u001b[0;36m<module>\u001b[0;34m\u001b[0m\n\u001b[1;32m     12\u001b[0m   \u001b[0mpprint\u001b[0m\u001b[0;34m.\u001b[0m\u001b[0mpprint\u001b[0m\u001b[0;34m(\u001b[0m\u001b[0mmessages\u001b[0m\u001b[0;34m)\u001b[0m\u001b[0;34m\u001b[0m\u001b[0;34m\u001b[0m\u001b[0m\n\u001b[1;32m     13\u001b[0m   \u001b[0;31m# append user input\u001b[0m\u001b[0;34m\u001b[0m\u001b[0;34m\u001b[0m\u001b[0m\n\u001b[0;32m---> 14\u001b[0;31m   \u001b[0muser_input\u001b[0m \u001b[0;34m=\u001b[0m \u001b[0minput\u001b[0m\u001b[0;34m(\u001b[0m\u001b[0;34m)\u001b[0m\u001b[0;34m\u001b[0m\u001b[0;34m\u001b[0m\u001b[0m\n\u001b[0m\u001b[1;32m     15\u001b[0m   \u001b[0mmessages\u001b[0m \u001b[0;34m=\u001b[0m \u001b[0mupdate_chat\u001b[0m\u001b[0;34m(\u001b[0m\u001b[0mmessages\u001b[0m\u001b[0;34m,\u001b[0m \u001b[0;34m\"user\"\u001b[0m\u001b[0;34m,\u001b[0m \u001b[0muser_input\u001b[0m\u001b[0;34m)\u001b[0m\u001b[0;34m\u001b[0m\u001b[0;34m\u001b[0m\u001b[0m\n\u001b[1;32m     16\u001b[0m   \u001b[0;31m# append model response\u001b[0m\u001b[0;34m\u001b[0m\u001b[0;34m\u001b[0m\u001b[0m\n",
            "\u001b[0;32m/usr/local/lib/python3.9/dist-packages/ipykernel/kernelbase.py\u001b[0m in \u001b[0;36mraw_input\u001b[0;34m(self, prompt)\u001b[0m\n\u001b[1;32m    858\u001b[0m                 \u001b[0;34m\"raw_input was called, but this frontend does not support input requests.\"\u001b[0m\u001b[0;34m\u001b[0m\u001b[0;34m\u001b[0m\u001b[0m\n\u001b[1;32m    859\u001b[0m             )\n\u001b[0;32m--> 860\u001b[0;31m         return self._input_request(str(prompt),\n\u001b[0m\u001b[1;32m    861\u001b[0m             \u001b[0mself\u001b[0m\u001b[0;34m.\u001b[0m\u001b[0m_parent_ident\u001b[0m\u001b[0;34m,\u001b[0m\u001b[0;34m\u001b[0m\u001b[0;34m\u001b[0m\u001b[0m\n\u001b[1;32m    862\u001b[0m             \u001b[0mself\u001b[0m\u001b[0;34m.\u001b[0m\u001b[0m_parent_header\u001b[0m\u001b[0;34m,\u001b[0m\u001b[0;34m\u001b[0m\u001b[0;34m\u001b[0m\u001b[0m\n",
            "\u001b[0;32m/usr/local/lib/python3.9/dist-packages/ipykernel/kernelbase.py\u001b[0m in \u001b[0;36m_input_request\u001b[0;34m(self, prompt, ident, parent, password)\u001b[0m\n\u001b[1;32m    902\u001b[0m             \u001b[0;32mexcept\u001b[0m \u001b[0mKeyboardInterrupt\u001b[0m\u001b[0;34m:\u001b[0m\u001b[0;34m\u001b[0m\u001b[0;34m\u001b[0m\u001b[0m\n\u001b[1;32m    903\u001b[0m                 \u001b[0;31m# re-raise KeyboardInterrupt, to truncate traceback\u001b[0m\u001b[0;34m\u001b[0m\u001b[0;34m\u001b[0m\u001b[0m\n\u001b[0;32m--> 904\u001b[0;31m                 \u001b[0;32mraise\u001b[0m \u001b[0mKeyboardInterrupt\u001b[0m\u001b[0;34m(\u001b[0m\u001b[0;34m\"Interrupted by user\"\u001b[0m\u001b[0;34m)\u001b[0m \u001b[0;32mfrom\u001b[0m \u001b[0;32mNone\u001b[0m\u001b[0;34m\u001b[0m\u001b[0;34m\u001b[0m\u001b[0m\n\u001b[0m\u001b[1;32m    905\u001b[0m             \u001b[0;32mexcept\u001b[0m \u001b[0mException\u001b[0m \u001b[0;32mas\u001b[0m \u001b[0me\u001b[0m\u001b[0;34m:\u001b[0m\u001b[0;34m\u001b[0m\u001b[0;34m\u001b[0m\u001b[0m\n\u001b[1;32m    906\u001b[0m                 \u001b[0mself\u001b[0m\u001b[0;34m.\u001b[0m\u001b[0mlog\u001b[0m\u001b[0;34m.\u001b[0m\u001b[0mwarning\u001b[0m\u001b[0;34m(\u001b[0m\u001b[0;34m\"Invalid Message:\"\u001b[0m\u001b[0;34m,\u001b[0m \u001b[0mexc_info\u001b[0m\u001b[0;34m=\u001b[0m\u001b[0;32mTrue\u001b[0m\u001b[0;34m)\u001b[0m\u001b[0;34m\u001b[0m\u001b[0;34m\u001b[0m\u001b[0m\n",
            "\u001b[0;31mKeyboardInterrupt\u001b[0m: Interrupted by user"
          ]
        }
      ]
    },
    {
      "cell_type": "code",
      "source": [],
      "metadata": {
        "id": "icnxuhb8EZgc"
      },
      "execution_count": null,
      "outputs": []
    }
  ]
}